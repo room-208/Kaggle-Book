{
 "cells": [
  {
   "cell_type": "code",
   "execution_count": 2,
   "metadata": {},
   "outputs": [],
   "source": [
    "from sklearn.metrics import accuracy_score"
   ]
  },
  {
   "cell_type": "code",
   "execution_count": 9,
   "metadata": {},
   "outputs": [],
   "source": [
    "def accuracy(y_true, y_pred):\n",
    "    assert len(y_true) == len(y_pred)\n",
    "    sum = 0\n",
    "    for yt, yp in zip(y_true, y_pred):\n",
    "        sum += int(yt == yp)\n",
    "    return sum/len(y_true)"
   ]
  },
  {
   "cell_type": "code",
   "execution_count": 10,
   "metadata": {},
   "outputs": [
    {
     "name": "stdout",
     "output_type": "stream",
     "text": [
      "0.625\n",
      "0.625\n"
     ]
    }
   ],
   "source": [
    "l1 = [0,1,1,1,0,0,0,1]\n",
    "l2 = [0,1,0,1,0,1,0,0]\n",
    "\n",
    "print(accuracy(l1,l2))\n",
    "print(accuracy_score(l1,l2))"
   ]
  },
  {
   "cell_type": "code",
   "execution_count": 24,
   "metadata": {},
   "outputs": [],
   "source": [
    "def true_positive(y_true, y_pred):\n",
    "    assert len(y_true) == len(y_pred)\n",
    "    res = 0\n",
    "    for yt, yp in zip(y_true, y_pred):\n",
    "        if yt == 1 and yp == 1:\n",
    "            res += 1\n",
    "    return res\n",
    "\n",
    "def true_negative(y_true, y_pred):\n",
    "    assert len(y_true) == len(y_pred)\n",
    "    res = 0\n",
    "    for yt, yp in zip(y_true, y_pred):\n",
    "        if yt == 0 and yp == 0:\n",
    "            res += 1\n",
    "    return res\n",
    "\n",
    "def false_positive(y_true, y_pred):\n",
    "    assert len(y_true) == len(y_pred)\n",
    "    res = 0\n",
    "    for yt, yp in zip(y_true, y_pred):\n",
    "        if yt == 0 and yp == 1:\n",
    "            res += 1\n",
    "    return res\n",
    "\n",
    "def false_negative(y_true, y_pred):\n",
    "    assert len(y_true) == len(y_pred)\n",
    "    res = 0\n",
    "    for yt, yp in zip(y_true, y_pred):\n",
    "        if yt == 1 and yp == 0:\n",
    "            res += 1\n",
    "    return res"
   ]
  },
  {
   "cell_type": "code",
   "execution_count": 25,
   "metadata": {},
   "outputs": [
    {
     "name": "stdout",
     "output_type": "stream",
     "text": [
      "2 1 2 3\n"
     ]
    }
   ],
   "source": [
    "l1 = [0,1,1,1,0,0,0,1]\n",
    "l2 = [0,1,0,1,0,1,0,0]\n",
    "\n",
    "print(true_positive(l1,l2),false_positive(l1,l2),false_negative(l1,l2),true_negative(l1,l2))"
   ]
  },
  {
   "cell_type": "code",
   "execution_count": 26,
   "metadata": {},
   "outputs": [],
   "source": [
    "def accuracy_v2(y_true, y_pred):\n",
    "    tp = true_positive(y_true, y_pred)\n",
    "    tn = true_negative(y_true, y_pred)\n",
    "    fp = false_positive(y_true, y_pred)\n",
    "    fn = false_negative(y_true, y_pred)\n",
    "    return (tp+tn)/(tp+tn+fp+fn)"
   ]
  },
  {
   "cell_type": "code",
   "execution_count": 27,
   "metadata": {},
   "outputs": [
    {
     "name": "stdout",
     "output_type": "stream",
     "text": [
      "0.625\n",
      "0.625\n",
      "0.625\n"
     ]
    }
   ],
   "source": [
    "l1 = [0,1,1,1,0,0,0,1]\n",
    "l2 = [0,1,0,1,0,1,0,0]\n",
    "\n",
    "print(accuracy(l1,l2))\n",
    "print(accuracy_score(l1,l2))\n",
    "print(accuracy_v2(l1,l2))"
   ]
  },
  {
   "cell_type": "code",
   "execution_count": 30,
   "metadata": {},
   "outputs": [
    {
     "name": "stdout",
     "output_type": "stream",
     "text": [
      "0.6666666666666666\n"
     ]
    }
   ],
   "source": [
    "def precision(y_true, y_pred):\n",
    "    tp = true_positive(y_true, y_pred)\n",
    "    fp = false_positive(y_true, y_pred)\n",
    "    return tp/(tp+fp)\n",
    "\n",
    "print(precision(l1,l2))"
   ]
  },
  {
   "cell_type": "code",
   "execution_count": 31,
   "metadata": {},
   "outputs": [
    {
     "name": "stdout",
     "output_type": "stream",
     "text": [
      "0.5\n"
     ]
    }
   ],
   "source": [
    "def recall(y_true, y_pred):\n",
    "    tp = true_positive(y_true, y_pred)\n",
    "    fn = false_negative(y_true, y_pred)\n",
    "    return tp/(tp+fn)\n",
    "\n",
    "print(recall(l1,l2))"
   ]
  },
  {
   "cell_type": "code",
   "execution_count": 32,
   "metadata": {},
   "outputs": [
    {
     "name": "stdout",
     "output_type": "stream",
     "text": [
      "0.5714285714285715\n"
     ]
    }
   ],
   "source": [
    "def f1(y_true, y_pred):\n",
    "    p = precision(y_true,y_pred)\n",
    "    r = recall(y_true,y_pred)\n",
    "    return (2*p*r)/(p+r)\n",
    "\n",
    "print(f1(l1,l2))"
   ]
  },
  {
   "cell_type": "code",
   "execution_count": 33,
   "metadata": {},
   "outputs": [
    {
     "name": "stdout",
     "output_type": "stream",
     "text": [
      "0.5714285714285715\n"
     ]
    }
   ],
   "source": [
    "from sklearn.metrics import f1_score\n",
    "\n",
    "print(f1_score(l1,l2))"
   ]
  },
  {
   "cell_type": "code",
   "execution_count": 39,
   "metadata": {},
   "outputs": [],
   "source": [
    "def tpr(y_true, y_pred):\n",
    "    \"\"\"\n",
    "    陽性者の中で陽性と判定した割合\n",
    "    \"\"\"\n",
    "    tp = true_positive(y_true, y_pred)\n",
    "    fn = false_negative(y_true, y_pred)\n",
    "    return tp/(tp+fn)\n",
    "\n",
    "def fpr(y_true, y_pred):\n",
    "    \"\"\"\n",
    "    陰性者の中で陽性と判定した割合\n",
    "    \"\"\"\n",
    "    fp = false_positive(y_true, y_pred)\n",
    "    tn = true_negative(y_true, y_pred)\n",
    "    return fp/(tn+fp)"
   ]
  },
  {
   "cell_type": "code",
   "execution_count": 40,
   "metadata": {},
   "outputs": [
    {
     "data": {
      "image/png": "[encoded data removed]",
      "text/plain": [
       "<Figure size 640x480 with 1 Axes>"
      ]
     },
     "metadata": {},
     "output_type": "display_data"
    },
    {
     "data": {
      "image/png": "[encoded data removed]",
      "text/plain": [
       "<Figure size 640x480 with 1 Axes>"
      ]
     },
     "metadata": {},
     "output_type": "display_data"
    }
   ],
   "source": [
    "import matplotlib.pyplot as plt\n",
    "\n",
    "tpr_list = []\n",
    "fpr_list = []\n",
    "\n",
    "y_true = [0,0,0,0,1,0,1,0,0,1,0,1,0,0,1]\n",
    "y_prob = [0.1,0.3,0.2,0.6,0.8,0.05,0.9,0.5,0.3,0.66,0.3,0.2,0.85,0.15,0.99]\n",
    "\n",
    "thresholds = [0,0.1,0.2,0.3,0.4,0.5,0.6,0.7,0.8,0.9,1.0]\n",
    "\n",
    "for th in thresholds:\n",
    "    y_pred = [ 1 if y >= th else 0 for y in y_prob ]\n",
    "    tpr_list.append(tpr(y_true,y_pred))\n",
    "    fpr_list.append(fpr(y_true,y_pred))\n",
    "\n",
    "plt.plot(fpr_list)\n",
    "plt.plot(tpr_list)\n",
    "plt.show()\n",
    "\n",
    "plt.plot(fpr_list,tpr_list)\n",
    "plt.show()"
   ]
  },
  {
   "cell_type": "code",
   "execution_count": 43,
   "metadata": {},
   "outputs": [
    {
     "name": "stdout",
     "output_type": "stream",
     "text": [
      "0.4988271186143209\n",
      "0.49882711861432294\n"
     ]
    }
   ],
   "source": [
    "import numpy as np\n",
    "from sklearn import metrics\n",
    "\n",
    "y_true = [0,0,0,0,1,0,1,0,0,1,0,1,0,0,1]\n",
    "y_prob = [0.1,0.3,0.2,0.6,0.8,0.05,0.9,0.5,0.3,0.66,0.3,0.2,0.85,0.15,0.99]\n",
    "\n",
    "def log_loss(y_true, y_pred):\n",
    "    epsilon = 1e-15\n",
    "    losses = []\n",
    "    for yt, yp in zip(y_true, y_pred):\n",
    "        loss = -1.*(\n",
    "            yt*np.log(yp+epsilon)\n",
    "            +(1-yt)*np.log(1-yp+epsilon)\n",
    "        )\n",
    "        losses.append(loss)\n",
    "    return np.mean(losses)\n",
    "\n",
    "print(log_loss(y_true,y_prob))\n",
    "print(metrics.log_loss(y_true,y_prob))"
   ]
  },
  {
   "cell_type": "code",
   "execution_count": 56,
   "metadata": {},
   "outputs": [],
   "source": [
    "def macro_precision(y_true,y_pred):\n",
    "    num_class = len(np.unique(y_true))\n",
    "\n",
    "    res = 0\n",
    "    for class_ in range(num_class):\n",
    "        tmp_true = [1 if y == class_ else 0 for y in y_true]\n",
    "        tmp_pred = [1 if y == class_ else 0 for y in y_pred]\n",
    "        tp = true_positive(tmp_true,tmp_pred)\n",
    "        fp = false_positive(tmp_true,tmp_pred)\n",
    "        res += (tp/(tp+fp))\n",
    "    \n",
    "    res /= num_class\n",
    "    return res\n",
    "\n",
    "def micro_precision(y_true,y_pred):\n",
    "    num_class = len(np.unique(y_true))\n",
    "\n",
    "    tp_sum = 0\n",
    "    fp_sum = 0\n",
    "\n",
    "    for class_ in range(num_class):\n",
    "        tmp_true = [1 if y == class_ else 0 for y in y_true]\n",
    "        tmp_pred = [1 if y == class_ else 0 for y in y_pred]\n",
    "        tp = true_positive(tmp_true,tmp_pred)\n",
    "        fp = false_positive(tmp_true,tmp_pred)\n",
    "        tp_sum += tp\n",
    "        fp_sum += fp\n",
    "\n",
    "    return tp_sum/(tp_sum+fp_sum)\n",
    "\n",
    "from collections import Counter\n",
    "\n",
    "def weighted_precision(y_true,y_pred):\n",
    "    num_class = len(np.unique(y_true))\n",
    "    class2conunt = Counter(y_true)\n",
    "    precision = 0\n",
    "\n",
    "    for class_ in range(num_class):\n",
    "        tmp_true = [1 if y == class_ else 0 for y in y_true]\n",
    "        tmp_pred = [1 if y == class_ else 0 for y in y_pred]\n",
    "        tp = true_positive(tmp_true,tmp_pred)\n",
    "        fp = false_positive(tmp_true,tmp_pred)\n",
    "        tmp_precision = tp/(tp+fp)\n",
    "        tmp_precision *= class2conunt[class_]\n",
    "        precision += tmp_precision\n",
    "    \n",
    "    precision /= len(y_true)\n",
    "    return precision"
   ]
  },
  {
   "cell_type": "code",
   "execution_count": 57,
   "metadata": {},
   "outputs": [
    {
     "name": "stdout",
     "output_type": "stream",
     "text": [
      "0.3611111111111111\n",
      "0.3611111111111111\n",
      "0.4444444444444444\n",
      "0.4444444444444444\n",
      "0.39814814814814814\n",
      "0.39814814814814814\n"
     ]
    }
   ],
   "source": [
    "y_true = [0,1,2,0,1,2,0,2,2]\n",
    "y_pred = [0,2,1,0,2,1,0,0,2]\n",
    "\n",
    "print(macro_precision(y_true,y_pred))\n",
    "print(metrics.precision_score(y_true,y_pred,average=\"macro\"))\n",
    "print(micro_precision(y_true,y_pred))\n",
    "print(metrics.precision_score(y_true,y_pred,average=\"micro\"))\n",
    "print(weighted_precision(y_true,y_pred))\n",
    "print(metrics.precision_score(y_true,y_pred,average=\"weighted\"))"
   ]
  },
  {
   "cell_type": "code",
   "execution_count": 60,
   "metadata": {},
   "outputs": [],
   "source": [
    "def weighted_f1(y_true,y_pred):\n",
    "    num_class = len(np.unique(y_true))\n",
    "    class2conunt = Counter(y_true)\n",
    "    res = 0\n",
    "\n",
    "    for class_ in range(num_class):\n",
    "        tmp_true = [1 if y == class_ else 0 for y in y_true]\n",
    "        tmp_pred = [1 if y == class_ else 0 for y in y_pred]\n",
    "        tp = true_positive(tmp_true,tmp_pred)\n",
    "        fp = false_positive(tmp_true,tmp_pred)\n",
    "        fn = false_negative(tmp_true,tmp_pred)\n",
    "        tmp =(2*tp)/(2*tp+fp+fn)\n",
    "        tmp *= class2conunt[class_]\n",
    "        res += tmp\n",
    "    \n",
    "    res /= len(y_true)\n",
    "    return res"
   ]
  },
  {
   "cell_type": "code",
   "execution_count": 61,
   "metadata": {},
   "outputs": [
    {
     "name": "stdout",
     "output_type": "stream",
     "text": [
      "0.4126984126984127\n",
      "0.41269841269841273\n"
     ]
    }
   ],
   "source": [
    "print(weighted_f1(y_true,y_pred))\n",
    "print(metrics.f1_score(y_true,y_pred,average=\"weighted\"))"
   ]
  },
  {
   "cell_type": "code",
   "execution_count": 63,
   "metadata": {},
   "outputs": [
    {
     "data": {
      "image/png": "[encoded data removed]",
      "text/plain": [
       "<Figure size 640x480 with 2 Axes>"
      ]
     },
     "metadata": {},
     "output_type": "display_data"
    }
   ],
   "source": [
    "import seaborn as sns\n",
    "\n",
    "cm = metrics.confusion_matrix(y_true,y_pred)\n",
    "\n",
    "sns.heatmap(cm,annot=True)\n",
    "plt.show()"
   ]
  },
  {
   "cell_type": "code",
   "execution_count": 69,
   "metadata": {},
   "outputs": [],
   "source": [
    "def pk(y_true,y_pred,k):\n",
    "    assert k > 0\n",
    "    pred_set = set(y_pred[:k])\n",
    "    true_set = set(y_true)\n",
    "    common_values = pred_set.intersection(true_set)\n",
    "    return len(common_values)/len(y_pred[:k])\n",
    "\n",
    "def apk(y_true,y_pred,k):\n",
    "    pk_vals = []\n",
    "    for i in range(1,k+1):\n",
    "        pk_vals.append(pk(y_true,y_pred,i))    \n",
    "    return np.mean(pk_vals)"
   ]
  },
  {
   "cell_type": "code",
   "execution_count": 70,
   "metadata": {},
   "outputs": [
    {
     "name": "stdout",
     "output_type": "stream",
     "text": [
      "[1, 2, 3] [0, 1, 2]\n",
      "1 0.0\n",
      "[1, 2, 3] [0, 1, 2]\n",
      "2 0.25\n",
      "[1, 2, 3] [0, 1, 2]\n",
      "3 0.38888888888888884\n",
      "[0, 2] [1]\n",
      "1 0.0\n",
      "[0, 2] [1]\n",
      "2 0.0\n",
      "[0, 2] [1]\n",
      "3 0.0\n",
      "[1] [0, 2, 3]\n",
      "1 0.0\n",
      "[1] [0, 2, 3]\n",
      "2 0.0\n",
      "[1] [0, 2, 3]\n",
      "3 0.0\n",
      "[2, 3] [2, 3, 4, 0]\n",
      "1 1.0\n",
      "[2, 3] [2, 3, 4, 0]\n",
      "2 1.0\n",
      "[2, 3] [2, 3, 4, 0]\n",
      "3 0.8888888888888888\n",
      "[1, 0] [0, 1, 2]\n",
      "1 1.0\n",
      "[1, 0] [0, 1, 2]\n",
      "2 1.0\n",
      "[1, 0] [0, 1, 2]\n",
      "3 0.8888888888888888\n",
      "[] [0]\n",
      "1 0.0\n",
      "[] [0]\n",
      "2 0.0\n",
      "[] [0]\n",
      "3 0.0\n"
     ]
    }
   ],
   "source": [
    "y_true = [\n",
    "    [1,2,3],\n",
    "    [0,2],\n",
    "    [1],\n",
    "    [2,3],\n",
    "    [1,0],\n",
    "    []    \n",
    "]\n",
    "\n",
    "y_pred = [\n",
    "    [0,1,2],\n",
    "    [1],\n",
    "    [0,2,3],\n",
    "    [2,3,4,0],\n",
    "    [0,1,2],\n",
    "    [0] \n",
    "]\n",
    "\n",
    "\n",
    "for yt, yp in zip(y_true, y_pred):\n",
    "    for k in range(1,4):\n",
    "        print(yt,yp)\n",
    "        print(k,apk(yt,yp,k))"
   ]
  },
  {
   "cell_type": "code",
   "execution_count": 71,
   "metadata": {},
   "outputs": [
    {
     "name": "stdout",
     "output_type": "stream",
     "text": [
      "1 0.3333333333333333\n",
      "2 0.375\n",
      "3 0.3611111111111111\n"
     ]
    }
   ],
   "source": [
    "def mapk(y_true,y_pred,k):\n",
    "    apk_vals = []\n",
    "    for yt, yp in zip(y_true, y_pred):\n",
    "        apk_vals.append(apk(yt,yp,k))\n",
    "    return np.mean(apk_vals)\n",
    "\n",
    "for k in range(1,4):\n",
    "    print(k,mapk(y_true,y_pred,k))"
   ]
  },
  {
   "cell_type": "code",
   "execution_count": null,
   "metadata": {},
   "outputs": [],
   "source": []
  }
 ],
 "metadata": {
  "kernelspec": {
   "display_name": "Python 3.10.7 ('.venv': pipenv)",
   "language": "python",
   "name": "python3"
  },
  "language_info": {
   "codemirror_mode": {
    "name": "ipython",
    "version": 3
   },
   "file_extension": ".py",
   "mimetype": "text/x-python",
   "name": "python",
   "nbconvert_exporter": "python",
   "pygments_lexer": "ipython3",
   "version": "3.7.6"
  },
  "orig_nbformat": 4,
  "vscode": {
   "interpreter": {
    "hash": "f08f25256b1419ce5dc1b1bf308cf6ae7351b9fa7db3c9781ad032e0260647e9"
   }
  }
 },
 "nbformat": 4,
 "nbformat_minor": 2
}
